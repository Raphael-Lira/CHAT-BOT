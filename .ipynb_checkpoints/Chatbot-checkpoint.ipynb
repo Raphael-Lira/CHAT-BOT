{
 "cells": [
  {
   "cell_type": "markdown",
   "id": "3dd5673a",
   "metadata": {},
   "source": [
    "# Objetivo desse chat é poder implementar em um telegram :D"
   ]
  },
  {
   "cell_type": "code",
   "execution_count": 13,
   "id": "a5fa6d98",
   "metadata": {},
   "outputs": [
    {
     "name": "stdout",
     "output_type": "stream",
     "text": [
      "✔ Download and installation successful\n",
      "You can now load the package via spacy.load('en_core_web_sm')\n"
     ]
    }
   ],
   "source": [
    "from chatterbot import ChatBot\n",
    "from chatterbot.trainers import ListTrainer\n",
    "from spacy.cli import download\n",
    "#Solução para corrigir um bug nas bibliotecas\n",
    "download('en_core_web_sm')\n",
    "class ENGSM:\n",
    "    ISO_639_1 = 'en_core_web_sm'\n",
    "##############################################"
   ]
  },
  {
   "cell_type": "code",
   "execution_count": 24,
   "id": "cbd8f696",
   "metadata": {},
   "outputs": [
    {
     "name": "stdout",
     "output_type": "stream",
     "text": [
      "List Trainer: [####################] 100%\n"
     ]
    }
   ],
   "source": [
    "import datetime\n",
    "agora = datetime.datetime.now()\n",
    "hora = agora.strftime(\"%H:%M:%S\")\n",
    "#\n",
    "chatbot = ChatBot('BotLira', tagger_language= ENGSM)\n",
    "conversa = [\"Olá, como você está?\",\n",
    "\"Estou bem, obrigado! E você?\",\n",
    "\"Bom dia, tudo bem?\",\n",
    "\"Bom dia tudo sim e com você ? \"\n",
    "\"Olá, tudo bem?\",\n",
    "\"Sim e aí, tudo tranquilo?\",\n",
    "\"Que horas são?\",\n",
    "f\"São {hora}\",\n",
    "\"Está tudo bem?\",\n",
    "\"Tudo certo e por aí?\"\n",
    "]\n",
    "trainer = ListTrainer(chatbot)\n",
    "trainer.train(conversa)"
   ]
  },
  {
   "cell_type": "code",
   "execution_count": 25,
   "id": "f5bb283c",
   "metadata": {},
   "outputs": [
    {
     "name": "stdout",
     "output_type": "stream",
     "text": [
      "Digite aqui a mensagem : otario\n",
      "Desculpe no momento não temos uma resposta para isso por tanto iremos salvar sua pergunta para trabalharmos nisso\n",
      "Digite aqui a mensagem : \n"
     ]
    }
   ],
   "source": [
    "while True:\n",
    "    mensagem = input('Digite aqui a mensagem : ')\n",
    "    if mensagem == '':\n",
    "        break\n",
    "    else:\n",
    "        if mensagem not in conversa:\n",
    "            print('Desculpe no momento não temos uma resposta para isso por tanto iremos salvar sua pergunta para trabalharmos nisso')\n",
    "        else:\n",
    "            print(chatbot.get_response(mensagem))"
   ]
  },
  {
   "cell_type": "code",
   "execution_count": 23,
   "id": "5a8b88ac",
   "metadata": {},
   "outputs": [],
   "source": [
    "#limpar banco dde dados\n",
    "chatbot.storage.drop()"
   ]
  },
  {
   "cell_type": "code",
   "execution_count": null,
   "id": "56a0df94",
   "metadata": {},
   "outputs": [],
   "source": []
  }
 ],
 "metadata": {
  "kernelspec": {
   "display_name": "Python 3",
   "language": "python",
   "name": "python3"
  },
  "language_info": {
   "codemirror_mode": {
    "name": "ipython",
    "version": 3
   },
   "file_extension": ".py",
   "mimetype": "text/x-python",
   "name": "python",
   "nbconvert_exporter": "python",
   "pygments_lexer": "ipython3",
   "version": "3.6.13"
  }
 },
 "nbformat": 4,
 "nbformat_minor": 5
}
